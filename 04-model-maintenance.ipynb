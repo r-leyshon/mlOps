{
 "cells": [
  {
   "attachments": {},
   "cell_type": "markdown",
   "metadata": {},
   "source": [
    "# Maintaining Models\n",
    "\n",
    "The concepts of model drift and covariate shift are explained.\n",
    "\n",
    "Some important factors to mornitoe in terms of service quality are:\n",
    "\n",
    "* Service status - are we aup and running?\n",
    "* Requests satisfied by target time?\n",
    "* Latency distribution of these served requests.\n",
    "\n",
    "Ultimately, our model performance (accuracy, recall etc) is a key kpi.\n",
    "\n",
    "How do models deteriorate over time?\n",
    "\n",
    "***\n",
    "\n",
    "## Concept Drift\n",
    "\n",
    "This occurs when the reality changes and the model stays the same. So if the \n",
    "relationships between the input features and the target change, the learned decision\n",
    "boundary becomes irrelevant.\n",
    "\n",
    "<img src=\"https://d3i71xaburhd42.cloudfront.net/ea4417dea9072437c3d4e5e03e7aa1b6c9328949/4-Figure3-1.png\" alt=\"Concept drift plotted in relation to decision boundary\"/>\n",
    "\n",
    "The way in which we monitor this is in verifying the model performance against the\n",
    "**ground truth**. This is simpler in some cases than others, for example some domains\n",
    "suffer from considerable **verification latency**, meaning use of the ground truth would\n",
    "be infeasible. An example may be in fraud detection, where months of investigation may\n",
    "be required to uncover the true class of a transaction. \n",
    "\n",
    "Without the ground truth we are left to monitor changes in the inpu data only. This is\n",
    "always a good idea even if verification latency is low.\n",
    "\n",
    "***\n",
    "\n",
    "## Covariate Shift\n",
    "\n",
    "If the distribution of the features (covariates) changes since training, this may be an\n",
    "indication of concept drift. However, each phenomenon can be experienced independently. \n",
    "It is important to monitor distribution in oth the input and the output distribution\n",
    "profiles in order to monitor for signs of concept drift and therefore model degradation."
   ]
  },
  {
   "attachments": {},
   "cell_type": "markdown",
   "metadata": {},
   "source": []
  }
 ],
 "metadata": {
  "language_info": {
   "name": "python"
  },
  "orig_nbformat": 4
 },
 "nbformat": 4,
 "nbformat_minor": 2
}
