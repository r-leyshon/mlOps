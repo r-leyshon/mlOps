{
 "cells": [
  {
   "attachments": {},
   "cell_type": "markdown",
   "metadata": {},
   "source": [
    "# Deployment Considerations\n",
    "\n",
    "A strong point to consider deployment from the early stages of scoping a project is made. Pressing on with the development in earnest prior to understanding the architecture tha app will be hosted on can cause all sorts of problems that ultimately cost more development time. \n",
    "\n",
    "Once a Data Scientist presents a trained model for hosting, here are some effective steps to consider:\n",
    "\n",
    "1. **Compatability with infrastructure.** Will it run on the target infrastructure?\n",
    "2. **Reproducibility.**\n",
    "    - metadata store\n",
    "    - data versioning\n",
    "3. **Validation.**\n",
    "    - data profile to store expected value references for comparison\n",
    "4. **Logging.**\n",
    "    - Monitoring of performance over time.\n",
    "    - logging at 3 key stages, input data, system errors or warnings, predicted values.\n",
    "5. **Maintenance.**\n",
    "    - Bugfixes, feature requests etc will need to be handled.\n",
    "    - How confident will you be in adjusting the codebase may be related to the\n",
    "    comprehensive test suite included with the code.\n",
    "\n"
   ]
  },
  {
   "attachments": {},
   "cell_type": "markdown",
   "metadata": {},
   "source": []
  }
 ],
 "metadata": {
  "language_info": {
   "name": "python"
  },
  "orig_nbformat": 4
 },
 "nbformat": 4,
 "nbformat_minor": 2
}
