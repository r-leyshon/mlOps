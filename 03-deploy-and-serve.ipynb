{
 "cells": [
  {
   "attachments": {},
   "cell_type": "markdown",
   "metadata": {},
   "source": [
    "# Deployment & Service Considerations\n",
    "\n",
    "## Serving Modes\n",
    "\n",
    "This is dictated by the acceptable latency expected by your users. Longer latency\n",
    "services such as daily weather forecasts are less technically demanding than near real\n",
    "time or real time services such as fraud detection algorithms. The primary modes are:\n",
    "\n",
    "* **Batch Processing**: Pre-predict batches, not event-driven.\n",
    "* **Near Real-Time**: Stream processing. Acceptable latency in minutes.\n",
    "* **Real-Time**: Acceptable latency less than a second. Late prediction useless. \n",
    "Consider **edge deployment**: Deployment of the model to the user's device.\n",
    "\n",
    "***\n",
    "\n",
    "## API Engineering\n",
    "\n",
    "There are 2 applications involved in a service:\n",
    "\n",
    "1. Client application\n",
    "2. Server application\n",
    "\n",
    "The server app hosts the model and exposes its functionality to the client via the API.\n",
    "\n",
    "There must be input validation on the values requested by the end user. Also\n",
    "expectations can be made of the model outputs in an output validation stage. \n",
    "\n",
    "**FastAPI** is a popular Python framework for engineering an API.\n",
    "\n",
    "<img src=\"https://fastapi.tiangolo.com/img/logo-margin/logo-teal.png\" alt=\"FastAPI\">\">"
   ]
  },
  {
   "attachments": {},
   "cell_type": "markdown",
   "metadata": {},
   "source": []
  }
 ],
 "metadata": {
  "language_info": {
   "name": "python"
  },
  "orig_nbformat": 4
 },
 "nbformat": 4,
 "nbformat_minor": 2
}
